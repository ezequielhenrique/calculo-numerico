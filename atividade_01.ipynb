{
  "nbformat": 4,
  "nbformat_minor": 0,
  "metadata": {
    "colab": {
      "provenance": [],
      "authorship_tag": "ABX9TyOp1iQDR1TDiJCYnTFndyDp",
      "include_colab_link": true
    },
    "kernelspec": {
      "name": "python3",
      "display_name": "Python 3"
    },
    "language_info": {
      "name": "python"
    }
  },
  "cells": [
    {
      "cell_type": "markdown",
      "metadata": {
        "id": "view-in-github",
        "colab_type": "text"
      },
      "source": [
        "<a href=\"https://colab.research.google.com/github/ezequielhenrique/calculo-numerico/blob/master/atividade_01.ipynb\" target=\"_parent\"><img src=\"https://colab.research.google.com/assets/colab-badge.svg\" alt=\"Open In Colab\"/></a>"
      ]
    },
    {
      "cell_type": "markdown",
      "source": [
        "Disciplina: Cálculo Numérico\n",
        "\n",
        "Aluno: Ezequiel Henrique Melo do Nascimento"
      ],
      "metadata": {
        "id": "EXtdZ_WHK7aw"
      }
    },
    {
      "cell_type": "code",
      "execution_count": 7,
      "metadata": {
        "colab": {
          "base_uri": "https://localhost:8080/"
        },
        "id": "wZSYaphNK0qB",
        "outputId": "485a0864-008d-4aac-cd6b-97647374ed24"
      },
      "outputs": [
        {
          "output_type": "stream",
          "name": "stdout",
          "text": [
            "2.220446049250313e-16\n"
          ]
        }
      ],
      "source": [
        "A = 1\n",
        "s = 2\n",
        "\n",
        "while s > 1:\n",
        "  A = A/2\n",
        "  s = 1 + A\n",
        "\n",
        "print(2*A)"
      ]
    },
    {
      "cell_type": "markdown",
      "source": [
        "No código acima o valor da variável **A** irá diminuir infinitamente para valores cada vez mais próximos de zero, como o loop está programado para repetir enquanto **s > 1** em teoria ele deveria repetir infinitamente já que A nunca vai ser zero. Mas, na prática, o python acaba considerando 2.220446049250313e-16 (um valor bem próximo de zero) como sendo zero, e assim acontece a interrupção do loop. Nesse caso, o número obtido no final do código representa o valor máximo que a máquina, com suas limitações de memória, conseguiu chegar próximo de zero, um valor de ordem e-16."
      ],
      "metadata": {
        "id": "5QW2-vRMLeC0"
      }
    }
  ]
}