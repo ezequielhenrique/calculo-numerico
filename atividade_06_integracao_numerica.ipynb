{
  "nbformat": 4,
  "nbformat_minor": 0,
  "metadata": {
    "colab": {
      "provenance": [],
      "authorship_tag": "ABX9TyM3KRrljQLNqZ/9dEBDsmv9",
      "include_colab_link": true
    },
    "kernelspec": {
      "name": "python3",
      "display_name": "Python 3"
    },
    "language_info": {
      "name": "python"
    }
  },
  "cells": [
    {
      "cell_type": "markdown",
      "metadata": {
        "id": "view-in-github",
        "colab_type": "text"
      },
      "source": [
        "<a href=\"https://colab.research.google.com/github/ezequielhenrique/calculo-numerico/blob/master/atividade_06_integracao_numerica.ipynb\" target=\"_parent\"><img src=\"https://colab.research.google.com/assets/colab-badge.svg\" alt=\"Open In Colab\"/></a>"
      ]
    },
    {
      "cell_type": "markdown",
      "source": [
        "### Integração Numérica pelo método dos trapézios"
      ],
      "metadata": {
        "id": "4sVz5TzFu_pi"
      }
    },
    {
      "cell_type": "code",
      "execution_count": 3,
      "metadata": {
        "colab": {
          "base_uri": "https://localhost:8080/"
        },
        "id": "LALNEm_6uvwi",
        "outputId": "d748ea1a-7155-4d00-ec6f-8fd9040e8844"
      },
      "outputs": [
        {
          "output_type": "stream",
          "name": "stdout",
          "text": [
            "Resultado da integração: 0.746787657823748\n"
          ]
        }
      ],
      "source": [
        "import math\n",
        "\n",
        "def metodo_dos_trapezios(func, a, b, n):\n",
        "    h = (b - a) / n\n",
        "    integral = 0.5 * (func(a) + func(b))\n",
        "\n",
        "    for i in range(1, n):\n",
        "        x = a + i * h\n",
        "        integral += func(x)\n",
        "\n",
        "    integral *= h\n",
        "    return integral\n",
        "\n",
        "# Função que será usada para integração\n",
        "def func(x):\n",
        "    return math.exp(-x**2)\n",
        "\n",
        "# Intervalo de integração\n",
        "a = 0\n",
        "b = 1\n",
        "\n",
        "# Quantidade de subintervalos\n",
        "n = 41\n",
        "\n",
        "resultado = metodo_dos_trapezios(func, a, b, n)\n",
        "print(\"Resultado da integração:\", resultado)\n"
      ]
    }
  ]
}