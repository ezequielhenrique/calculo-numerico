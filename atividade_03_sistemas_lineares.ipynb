{
  "nbformat": 4,
  "nbformat_minor": 0,
  "metadata": {
    "colab": {
      "provenance": [],
      "authorship_tag": "ABX9TyPp0cgEsP/kOkdDMWjurcCX",
      "include_colab_link": true
    },
    "kernelspec": {
      "name": "python3",
      "display_name": "Python 3"
    },
    "language_info": {
      "name": "python"
    }
  },
  "cells": [
    {
      "cell_type": "markdown",
      "metadata": {
        "id": "view-in-github",
        "colab_type": "text"
      },
      "source": [
        "<a href=\"https://colab.research.google.com/github/ezequielhenrique/calculo-numerico/blob/master/atividade_03_sistemas_lineares.ipynb\" target=\"_parent\"><img src=\"https://colab.research.google.com/assets/colab-badge.svg\" alt=\"Open In Colab\"/></a>"
      ]
    },
    {
      "cell_type": "code",
      "execution_count": 18,
      "metadata": {
        "id": "HAkb71xpvI9t"
      },
      "outputs": [],
      "source": [
        "import numpy as np\n",
        "\n",
        "def gauss(A, b):\n",
        "  # A é a matriz dos coeficientes\n",
        "  # b é o vetor dos termos independentes\n",
        "\n",
        "  n = len(b)\n",
        "\n",
        "  for k in range(0, n-1):   # percorre a diagonal\n",
        "    pivo = A[k][k]\n",
        "\n",
        "    for i in range(k+1, n):   # percorre a linha\n",
        "      m = A[i][k] / pivo\n",
        "\n",
        "      for j in range(k, n):      # percorre as colunas\n",
        "        A[i][j] = A[i][j] - m*A[k][j]\n",
        "\n",
        "      b[i] = b[i] - m*b[k]\n",
        "\n",
        "  return A, b # depois de feito o escalonamento\n",
        "\n",
        "\n",
        "def subs_reversa(A_t, b_t, A, b):\n",
        "  n = len(b)\n",
        "\n",
        "  x = n*[0]   # vetor solução\n",
        "\n",
        "  x[n-1] = b[n-1] / A[n-1][n-1]\n",
        "\n",
        "  for k in range(n-2, -1, -1):   # percorre as linhas de baixo para cima\n",
        "    s = 0\n",
        "\n",
        "    for j in range(k+1, n):\n",
        "      s = s + A[k][j]*x[j]\n",
        "\n",
        "    x[k] = (b[k] - s) / A[k][k]\n",
        "\n",
        "  return x\n",
        "\n",
        "\n",
        "def hilbert(n):\n",
        "  A = np.zeros((n,n))\n",
        "\n",
        "  b = n*[0]\n",
        "\n",
        "  for i in range(0,n):\n",
        "    for j in range(0,n):\n",
        "      A[i][j] = 1 / ((i+1) + (j+1) -1)\n",
        "\n",
        "  for i in range(0,n):\n",
        "    s = 0\n",
        "    for j in range(0,n):\n",
        "      s = s + A[i][j]\n",
        "    b[i] = s\n",
        "\n",
        "  return A, b\n",
        "\n"
      ]
    },
    {
      "cell_type": "code",
      "source": [
        "def eliminacao_gaussiana(n):\n",
        "  A, b = hilbert(n)\n",
        "  A_t, b_t = gauss(A, b)\n",
        "  x = subs_reversa(A_t, b_t, A, b)\n",
        "\n",
        "  return x\n",
        "\n",
        "\n",
        "print('Solução para n=3:')\n",
        "print(np.array(eliminacao_gaussiana(3)))\n",
        "print()\n",
        "\n",
        "print('Solução para n=10:')\n",
        "print(np.array(eliminacao_gaussiana(10)))\n",
        "print()\n",
        "\n",
        "print('Solução para n=100:')\n",
        "print(np.array(eliminacao_gaussiana(100)))\n"
      ],
      "metadata": {
        "colab": {
          "base_uri": "https://localhost:8080/"
        },
        "id": "Ir9WAubrG0jx",
        "outputId": "7402054d-aee3-4fd1-d2fb-9e747ed6c387"
      },
      "execution_count": 20,
      "outputs": [
        {
          "output_type": "stream",
          "name": "stdout",
          "text": [
            "Solução para n=3:\n",
            "[1. 1. 1.]\n",
            "\n",
            "Solução para n=10:\n",
            "[1.         1.00000011 0.99999774 1.00002048 0.99990264 1.00026691\n",
            " 0.99956309 1.0004214  0.99977914 1.0000485 ]\n",
            "\n",
            "Solução para n=100:\n",
            "[   1.00000006    1.00000346    0.99930232    1.02284112    0.67542449\n",
            "    3.50505047  -10.56441888   34.39696064  -60.72475166   77.65705479\n",
            "  -77.08167439   86.19871304  -72.49426455   16.54992884   23.95879226\n",
            "   -7.31922878   32.21947592  -71.51727711   -9.46832563  102.14786375\n",
            "   -4.39895922  -49.22591065  -65.42842846   77.29850997    8.93782563\n",
            "   10.73930732   -2.85848396  -94.70484285   18.50972397  112.92524923\n",
            "   53.29317769  -77.717847    -45.60028616    0.85275608  -20.4096287\n",
            "  -56.15194547  106.64520984   -3.43304762   45.76884452    8.18463462\n",
            "  -62.14433983   10.47684517   26.81016976  -75.72695047   76.43373944\n",
            "  -55.66160624  -22.27769001   89.82669695  -63.1821981   111.92186071\n",
            "  -73.86488276   28.55377376  -22.52848467  -44.40537539  -20.73465397\n",
            "   45.28378752  -39.73522503  -57.64909728  101.37393269   57.69560291\n",
            "   47.33773405  105.39748722  -47.40919843 -159.08731145  -38.12126809\n",
            "  -73.96960431   18.91336514  -69.1623547   118.19568393   26.67259899\n",
            "  141.97363569   69.76167941 -144.15737423  -13.45462434   67.81391467\n",
            "  -44.46076732 -126.18023446  -39.0299777   192.48260863  -67.48642066\n",
            "   16.63922918   82.76295773 -146.84427475  -90.70141644  164.56425302\n",
            "  126.83873717   11.11376428 -223.70625181   -6.50592939   67.25687921\n",
            " -139.33749886  216.16064483    2.02363756  -98.08079978  114.96278698\n",
            "   -3.84267504  -55.48805819 -100.47025635   98.01317515   -7.2417108 ]\n"
          ]
        }
      ]
    },
    {
      "cell_type": "code",
      "source": [],
      "metadata": {
        "id": "HKN2j9ptJU2R"
      },
      "execution_count": null,
      "outputs": []
    }
  ]
}