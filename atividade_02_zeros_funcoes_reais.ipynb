{
  "nbformat": 4,
  "nbformat_minor": 0,
  "metadata": {
    "colab": {
      "provenance": [],
      "authorship_tag": "ABX9TyPGhlAHjU/LAWrkvPAxiIu6",
      "include_colab_link": true
    },
    "kernelspec": {
      "name": "python3",
      "display_name": "Python 3"
    },
    "language_info": {
      "name": "python"
    }
  },
  "cells": [
    {
      "cell_type": "markdown",
      "metadata": {
        "id": "view-in-github",
        "colab_type": "text"
      },
      "source": [
        "<a href=\"https://colab.research.google.com/github/ezequielhenrique/calculo-numerico/blob/master/atividade_02_zeros_funcoes_reais.ipynb\" target=\"_parent\"><img src=\"https://colab.research.google.com/assets/colab-badge.svg\" alt=\"Open In Colab\"/></a>"
      ]
    },
    {
      "cell_type": "markdown",
      "source": [
        "### Método da bisecção"
      ],
      "metadata": {
        "id": "1SSGycHYva7B"
      }
    },
    {
      "cell_type": "code",
      "source": [
        "import math\n",
        "\n",
        "def f(x):\n",
        "  return x*math.log10(x) - 1\n",
        "\n",
        "\n",
        "# dados iniciais\n",
        "a = 1\n",
        "b = 3\n",
        "\n",
        "# precisão\n",
        "erro = 0.00009\n",
        "\n",
        "# cotagem das iterações\n",
        "k = 0\n",
        "\n",
        "while b - a > erro:\n",
        "  m = (a + b) / 2\n",
        "\n",
        "  if f(a) * f(m) < 0:\n",
        "    b = m\n",
        "  else:\n",
        "    a = m\n",
        "\n",
        "  k += 1\n",
        "\n",
        "print(f'A raíz encontrada foi {(a + b) / 2}')\n",
        "print('O número de iterações foi:', k)\n"
      ],
      "metadata": {
        "id": "KPtLUi4Jm9f_",
        "colab": {
          "base_uri": "https://localhost:8080/"
        },
        "outputId": "23452497-8afd-4b19-b592-51b1363e173d"
      },
      "execution_count": 8,
      "outputs": [
        {
          "output_type": "stream",
          "name": "stdout",
          "text": [
            "A raíz encontrada foi 2.506195068359375\n",
            "O número de iterações foi: 15\n"
          ]
        }
      ]
    },
    {
      "cell_type": "code",
      "source": [],
      "metadata": {
        "colab": {
          "base_uri": "https://localhost:8080/"
        },
        "id": "MXzNOl2cogEv",
        "outputId": "bdd10d44-418f-4fc2-cb06-2339f89bb3ae"
      },
      "execution_count": null,
      "outputs": [
        {
          "output_type": "stream",
          "name": "stdout",
          "text": [
            "A raíz encontrada foi 2.506195068359375\n",
            "O número de iterações foi: 15\n"
          ]
        }
      ]
    },
    {
      "cell_type": "markdown",
      "source": [
        "### Método da posição falsa"
      ],
      "metadata": {
        "id": "jB-D2ZnLvfgm"
      }
    },
    {
      "cell_type": "code",
      "source": [
        "import math\n",
        "\n",
        "def f(x):\n",
        "  return x*math.log10(x) - 1\n",
        "\n",
        "\n",
        "# dados iniciais\n",
        "a = 1\n",
        "b = 3\n",
        "\n",
        "m = (a*f(b) - b*f(a)) / (f(b) - f(a))\n",
        "\n",
        "# precisão\n",
        "erro = 0.00009\n",
        "\n",
        "# cotagem das iterações\n",
        "k = 0\n",
        "\n",
        "while abs(f(m)) > erro:\n",
        "  m = (a*f(b) - b*f(a)) / (f(b) - f(a))\n",
        "\n",
        "  if f(a)*f(m) < 0:\n",
        "    b = m\n",
        "  else:\n",
        "    a = m\n",
        "\n",
        "  k += 1\n",
        "\n",
        "print('A raíz encontrada foi', m)\n",
        "print('O número de iterações foi:', k)"
      ],
      "metadata": {
        "id": "BUrtwGKpvlNo",
        "colab": {
          "base_uri": "https://localhost:8080/"
        },
        "outputId": "6b73439d-ef0e-4dd2-b52e-8e81601c10ca"
      },
      "execution_count": 9,
      "outputs": [
        {
          "output_type": "stream",
          "name": "stdout",
          "text": [
            "A raíz encontrada foi 2.5061732331523427\n",
            "O número de iterações foi: 4\n"
          ]
        }
      ]
    },
    {
      "cell_type": "markdown",
      "source": [
        "### Método do ponto fixo"
      ],
      "metadata": {
        "id": "nGVGc4cFok_Q"
      }
    },
    {
      "cell_type": "code",
      "source": [
        "import math\n",
        "\n",
        "def f(x):\n",
        "  return x*math.log10(x) - 1\n",
        "\n",
        "# Função de iteração\n",
        "def phi(x):\n",
        "  return math.pow(10, (1/x))\n",
        "\n",
        "# aproximação inicial\n",
        "x_k = 1\n",
        "\n",
        "# precisão\n",
        "erro = 0.00009\n",
        "\n",
        "# cotagem das iterações\n",
        "k = 0\n",
        "\n",
        "while abs(f(x_k)) > erro:\n",
        "  x_k = phi(x_k)\n",
        "  k += 1\n",
        "\n",
        "print('A raíz encontrada foi', x_k)\n",
        "print('O número de iterações foi:', k)\n"
      ],
      "metadata": {
        "colab": {
          "base_uri": "https://localhost:8080/"
        },
        "id": "amtdhqhhovkg",
        "outputId": "8bf2a26a-4c57-4d21-8adc-1fe31de29089"
      },
      "execution_count": 10,
      "outputs": [
        {
          "output_type": "stream",
          "name": "stdout",
          "text": [
            "A raíz encontrada foi 2.5060829629945953\n",
            "O número de iterações foi: 116\n"
          ]
        }
      ]
    },
    {
      "cell_type": "markdown",
      "source": [
        "### Método de Newton"
      ],
      "metadata": {
        "id": "H0sIMQjuthew"
      }
    },
    {
      "cell_type": "code",
      "source": [
        "import math\n",
        "\n",
        "def f(x):\n",
        "  return x*math.log10(x) - 1\n",
        "\n",
        "\n",
        "def flinha(x):\n",
        "  return math.log(x) + (1/math.log(10))\n",
        "\n",
        "\n",
        "# Função de iteração\n",
        "def phi(x):\n",
        "  return x - (f(x) / flinha(x))\n",
        "\n",
        "# aproximação inicial\n",
        "x_k = 1\n",
        "\n",
        "# precisão\n",
        "erro = 0.00009\n",
        "\n",
        "# cotagem das iterações\n",
        "k = 0\n",
        "\n",
        "while abs(f(x_k)) > erro:\n",
        "  x_k = phi(x_k)\n",
        "  k += 1\n",
        "\n",
        "print('A raíz encontrada foi', x_k)\n",
        "print('O número de iterações foi:', k)"
      ],
      "metadata": {
        "colab": {
          "base_uri": "https://localhost:8080/"
        },
        "id": "A3oAJ1uqtlHd",
        "outputId": "a8e71fed-86aa-4750-e63f-abdd16e599c9"
      },
      "execution_count": 11,
      "outputs": [
        {
          "output_type": "stream",
          "name": "stdout",
          "text": [
            "A raíz encontrada foi 2.5062606623501007\n",
            "O número de iterações foi: 11\n"
          ]
        }
      ]
    },
    {
      "cell_type": "markdown",
      "source": [
        "### Método da secante"
      ],
      "metadata": {
        "id": "ez7hYTgRdTEk"
      }
    },
    {
      "cell_type": "code",
      "source": [
        "import math\n",
        "\n",
        "def f(x):\n",
        "  return x*math.log10(x) - 1\n",
        "\n",
        "# dados iniciais\n",
        "a = 1\n",
        "b = 3\n",
        "\n",
        "# precisão\n",
        "erro = 0.00009\n",
        "\n",
        "# cotagem das iterações\n",
        "k = 0\n",
        "\n",
        "while abs(f(a)) > erro:\n",
        "  if abs(a - b) < erro:\n",
        "    break\n",
        "  c = (a*f(b)-b*f(a)) / (f(b) - f(a))\n",
        "  a = b\n",
        "  b = c\n",
        "\n",
        "  k += 1\n",
        "\n",
        "print('A raíz encontrada foi', m)\n",
        "print('O número de iterações foi:', k)"
      ],
      "metadata": {
        "colab": {
          "base_uri": "https://localhost:8080/"
        },
        "id": "sUpNujbfdfrn",
        "outputId": "d332a120-0198-4576-9916-0a6352bcc260"
      },
      "execution_count": 12,
      "outputs": [
        {
          "output_type": "stream",
          "name": "stdout",
          "text": [
            "A raíz encontrada foi 2.5061732331523427\n",
            "O número de iterações foi: 4\n"
          ]
        }
      ]
    }
  ]
}